{
 "cells": [
  {
   "cell_type": "code",
   "execution_count": 1,
   "metadata": {},
   "outputs": [],
   "source": [
    "import pandas as pd\n",
    "STATPATH = '/D/TWCC/work/cgh_2022/jsonmv/stat/0401_0707/compareST_0401_0707.csv'\n"
   ]
  },
  {
   "cell_type": "code",
   "execution_count": 2,
   "metadata": {},
   "outputs": [],
   "source": [
    "class_dict = {\n",
    "    \"塞音化\": 1,\n",
    "    \"母音化\": 2,\n",
    "    \"母音省略\": 3,\n",
    "    \"舌前音化\": 4,\n",
    "    \"舌根音化\": 5,\n",
    "    \"不送氣音化\": 6,\n",
    "    \"聲隨韻母\": 7,\n",
    "    \"邊音化\": 8,\n",
    "    \"齒間音\": 9,\n",
    "    \"子音省略\": 10,\n",
    "    \"擦音化\": 11,\n",
    "    \"介音省略\": 12,\n",
    "    \"塞擦音化\": 13,\n",
    "    \"複韻母省略\": 14,\n",
    "    \"其他\": 15,\n",
    "    \"正確\": 16,\n",
    "    \"雜訊無法辨識\": 17\n",
    "}\n"
   ]
  },
  {
   "cell_type": "code",
   "execution_count": 3,
   "metadata": {},
   "outputs": [],
   "source": [
    "from ast import literal_eval\n",
    "df_stat = pd.read_csv(STATPATH, index_col=0)\n",
    "\n",
    "for case in df_stat.columns.tolist():\n",
    "    for wordcard in df_stat.index.tolist():\n",
    "        if not df_stat[case][wordcard]:\n",
    "            pass\n",
    "        elif (df_stat[case][wordcard] != df_stat[case][wordcard]):\n",
    "            pass\n",
    "        else:\n",
    "            df_stat[case][wordcard] = literal_eval(\n",
    "                df_stat[case][wordcard])  # convert to list\n"
   ]
  },
  {
   "cell_type": "code",
   "execution_count": null,
   "metadata": {},
   "outputs": [],
   "source": []
  }
 ],
 "metadata": {
  "kernelspec": {
   "display_name": "Python 3.7.13 ('cgh-tf2')",
   "language": "python",
   "name": "python3"
  },
  "language_info": {
   "codemirror_mode": {
    "name": "ipython",
    "version": 3
   },
   "file_extension": ".py",
   "mimetype": "text/x-python",
   "name": "python",
   "nbconvert_exporter": "python",
   "pygments_lexer": "ipython3",
   "version": "3.7.13"
  },
  "orig_nbformat": 4,
  "vscode": {
   "interpreter": {
    "hash": "d0d49c5b027e350f5dabb267e49fd20e6c5ba13ac4fa28295ca35f4c91aa4338"
   }
  }
 },
 "nbformat": 4,
 "nbformat_minor": 2
}
