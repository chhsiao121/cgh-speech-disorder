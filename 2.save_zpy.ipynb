{
 "cells": [
  {
   "cell_type": "code",
   "execution_count": 4,
   "metadata": {},
   "outputs": [],
   "source": [
    "import os\n",
    "import numpy as np\n",
    "from multiprocessing import  Pool\n",
    "import random"
   ]
  },
  {
   "cell_type": "code",
   "execution_count": 8,
   "metadata": {},
   "outputs": [],
   "source": [
    "num_threads=28\n",
    "k_part=5\n",
    "ori_data_path = '/home/angel00540/work_/work/cgh_2022/exp_0603/data_syllable/training/training_data/ori/'\n",
    "aug_data_path = '/home/angel00540/work_/work/cgh_2022/exp_0603/data_syllable/training/training_data/aug/'\n",
    "zpy_save_path='/home/angel00540/work_/work/cgh_2022/exp_0607/'\n",
    "origin_list = []\n",
    "aug_list = [[] for i in range(k_part)]\n",
    "train_data=[[] for i in range(k_part)]\n",
    "test_data=[[] for i in range(k_part)]\n",
    "classes = []\n",
    "aug_limit=999999\n",
    "test_limit=999999\n",
    "SEED = 44"
   ]
  },
  {
   "cell_type": "code",
   "execution_count": 9,
   "metadata": {},
   "outputs": [
    {
     "name": "stdout",
     "output_type": "stream",
     "text": [
      "['0', '16']\n"
     ]
    }
   ],
   "source": [
    "classes=[]\n",
    "\n",
    "def load_class():\n",
    "    for _, dirs, _ in os.walk(os.path.abspath(ori_data_path)):\n",
    "        break\n",
    "    dirs = [int(x) for x in dirs]\n",
    "    dirs.sort()\n",
    "    dirs = [str(x) for x in dirs]\n",
    "    return dirs\n",
    "\n",
    "classes=load_class()\n",
    "print(classes)"
   ]
  },
  {
   "cell_type": "code",
   "execution_count": 10,
   "metadata": {},
   "outputs": [],
   "source": [
    "def chunkIt(seq, num): #把一個list seq分成chunks of size num\n",
    "    avg = len(seq) / float(num)\n",
    "    out = []\n",
    "    last = 0.0\n",
    "    while last < len(seq):\n",
    "        out.append(seq[int(last):int(last + avg)])\n",
    "        last += avg\n",
    "    return out"
   ]
  },
  {
   "cell_type": "code",
   "execution_count": 11,
   "metadata": {},
   "outputs": [
    {
     "name": "stdout",
     "output_type": "stream",
     "text": [
      "Load ori list\n",
      "Class:  0  files:  108\n",
      "part:  0  Class:  0  ori_n:  21\n",
      "part:  1  Class:  0  ori_n:  22\n",
      "part:  2  Class:  0  ori_n:  21\n",
      "part:  3  Class:  0  ori_n:  22\n",
      "part:  4  Class:  0  ori_n:  22\n",
      "Class:  16  files:  446\n",
      "part:  0  Class:  16  ori_n:  89\n",
      "part:  1  Class:  16  ori_n:  89\n",
      "part:  2  Class:  16  ori_n:  89\n",
      "part:  3  Class:  16  ori_n:  89\n",
      "part:  4  Class:  16  ori_n:  90\n",
      "part:  0  total_ori_n:  110\n",
      "part:  1  total_ori_n:  111\n",
      "part:  2  total_ori_n:  110\n",
      "part:  3  total_ori_n:  111\n",
      "part:  4  total_ori_n:  112\n"
     ]
    }
   ],
   "source": [
    "def load_ori_list():\n",
    "    print('Load ori list')\n",
    "    folder_list=[[] for _ in range(k_part)]\n",
    "    class_list=[]\n",
    "    for n in classes:\n",
    "        ori_path = ori_data_path + str(n)+'/'\n",
    "        ori_n = 0\n",
    "        tmp_list=[]\n",
    "        for root2, _, files2 in os.walk(os.path.abspath(ori_path)):\n",
    "            for file2 in files2:\n",
    "                if('npy' in file2):\n",
    "                    tmp_list.append(os.path.join(root2, file2))\n",
    "                    ori_n = ori_n+1\n",
    "        print('Class: ', n, ' files: ',ori_n)\n",
    "        random.Random(SEED).shuffle(tmp_list)# 把tmp_list弄亂\n",
    "\n",
    "        tmp_list = chunkIt(tmp_list, k_part) # 把tmp_list(代表某一個錯誤類別或是正確類別)分成k_part\n",
    "\n",
    "        for k in range(k_part):\n",
    "            print('part: ', k,' Class: ', n,' ori_n: ',len(tmp_list[k]))\n",
    "            folder_list[k]=np.append(folder_list[k],tmp_list[k]) #folder_list裡面會有5個list，存有每個類別的5個part\n",
    "            # folder_list[n]=folder_list[n]+tmp_list[n]\n",
    "            \n",
    "    return folder_list\n",
    "\n",
    "origin_list=load_ori_list()\n",
    "for n in range(k_part):\n",
    "    print('part: ',n,' total_ori_n: ',len(origin_list[n]))"
   ]
  },
  {
   "cell_type": "code",
   "execution_count": 12,
   "metadata": {},
   "outputs": [
    {
     "data": {
      "text/plain": [
       "5"
      ]
     },
     "execution_count": 12,
     "metadata": {},
     "output_type": "execute_result"
    }
   ],
   "source": [
    "len(origin_list)"
   ]
  },
  {
   "cell_type": "code",
   "execution_count": 13,
   "metadata": {},
   "outputs": [
    {
     "name": "stdout",
     "output_type": "stream",
     "text": [
      "/home/angel00540/work_/work/cgh_2022/exp_0603/data_syllable/training/training_data/ori/0/1_1463545338_03_07_2.npy\n"
     ]
    }
   ],
   "source": [
    "print(origin_list[0][0])"
   ]
  },
  {
   "cell_type": "code",
   "execution_count": 14,
   "metadata": {},
   "outputs": [
    {
     "name": "stdout",
     "output_type": "stream",
     "text": [
      "Load aug list\n",
      "part:  0  aug_n:  147\n",
      "part:  1  aug_n:  154\n",
      "part:  2  aug_n:  147\n",
      "part:  3  aug_n:  154\n",
      "part:  4  aug_n:  154\n"
     ]
    }
   ],
   "source": [
    "def load_aug_list():\n",
    "    print('Load aug list')\n",
    "    tmp_aug_list = [[] for i in range(k_part)]\n",
    "    for i in range(k_part):\n",
    "        tmp_list = [y[:-4] for y in origin_list[i]] #去除掉.npy\n",
    "        tmp_list = [y[y.rfind('/')+1:] for y in tmp_list] #將.../training/training_data/ori/0/1_1463545338_03_07_2 轉成1_1463545338_03_07_2\n",
    "        for root1, _, files1 in os.walk(os.path.abspath(aug_data_path)):\n",
    "            for file1 in files1: # file1 like 1_1462500010_05_04_2_ts_.npy\n",
    "                if('npy' in file1): \n",
    "                    myname = file1[:file1.rfind('_')] # myname like 1_1462500010_05_04_2_ts\n",
    "                    myname = myname[:myname.rfind('_')] # myname like 1_1462500010_05_04_2\n",
    "                    if(myname in tmp_list): #如果myname在這part的origin_list的話，就把此aug路徑也加到同part的aug_list\n",
    "                        tmp_aug_list[i].append(os.path.join(root1, file1)) #origin_list[1]的aug都在aug_list[1]當中\n",
    "    return tmp_aug_list\n",
    "aug_list = load_aug_list()\n",
    "for i in range(k_part):\n",
    "    print('part: ',i,' aug_n: ',len(aug_list[i]))"
   ]
  },
  {
   "cell_type": "code",
   "execution_count": 16,
   "metadata": {},
   "outputs": [
    {
     "data": {
      "text/plain": [
       "147"
      ]
     },
     "execution_count": 16,
     "metadata": {},
     "output_type": "execute_result"
    }
   ],
   "source": [
    "len(aug_list[0])"
   ]
  },
  {
   "cell_type": "code",
   "execution_count": 17,
   "metadata": {},
   "outputs": [
    {
     "name": "stdout",
     "output_type": "stream",
     "text": [
      "part:  0  aug_n:  147\n",
      "part:  1  aug_n:  154\n",
      "part:  2  aug_n:  147\n",
      "part:  3  aug_n:  154\n",
      "part:  4  aug_n:  154\n"
     ]
    }
   ],
   "source": [
    "for i in range(k_part):\n",
    "    print('part: ',i,' aug_n: ',len(aug_list[i]))"
   ]
  },
  {
   "cell_type": "code",
   "execution_count": 11,
   "metadata": {},
   "outputs": [],
   "source": [
    "def balance_aug_list():\n",
    "    pass"
   ]
  },
  {
   "cell_type": "code",
   "execution_count": 12,
   "metadata": {},
   "outputs": [],
   "source": [
    "def balance_test_list():\n",
    "    pass"
   ]
  },
  {
   "cell_type": "markdown",
   "metadata": {},
   "source": [
    "## marge_ori_aug"
   ]
  },
  {
   "cell_type": "code",
   "execution_count": 13,
   "metadata": {},
   "outputs": [
    {
     "name": "stdout",
     "output_type": "stream",
     "text": [
      "part:  0  train_data:  1255\n",
      "part:  0  test_data:  160\n",
      "part:  1  train_data:  1247\n",
      "part:  1  test_data:  161\n",
      "part:  2  train_data:  1253\n",
      "part:  2  test_data:  162\n",
      "part:  3  train_data:  1247\n",
      "part:  3  test_data:  161\n",
      "part:  4  train_data:  1246\n",
      "part:  4  test_data:  162\n"
     ]
    }
   ],
   "source": [
    "test_data=[[] for i in range(k_part)]\n",
    "train_data=[[] for i in range(k_part)]\n",
    "\n",
    "for select_part in range(k_part):\n",
    "    for other_part in range(k_part):\n",
    "        if select_part != other_part:\n",
    "            train_data[select_part] = np.append(train_data[select_part] ,origin_list[other_part] )\n",
    "            train_data[select_part]= np.append(train_data[select_part] , aug_list[other_part])\n",
    "        else:\n",
    "            test_data[select_part] = origin_list[select_part]\n",
    "    print('part: ',select_part,' train_data: ',len(train_data[select_part]))\n",
    "    print('part: ',select_part,' test_data: ',len(test_data[select_part]))\n"
   ]
  },
  {
   "cell_type": "code",
   "execution_count": 14,
   "metadata": {},
   "outputs": [],
   "source": [
    "def load_data(npy_name):\n",
    "    lable = npy_name.split('/') #npy_name lik ..../training/training_data/ori/0/1_1463545338_03_07_2.npy'\n",
    "    lable = classes.index(lable[-2]) #拿到label的資料夾\n",
    "    data = np.load(npy_name[:-4]+'.npy', allow_pickle=True)\n",
    "    return data, lable"
   ]
  },
  {
   "cell_type": "code",
   "execution_count": 15,
   "metadata": {},
   "outputs": [
    {
     "name": "stdout",
     "output_type": "stream",
     "text": [
      "/home/angel00540/work_/work/cgh_2022/exp_0607/training_data/ori/16/16_56554239_04_01_1.npy\n",
      "(128, 128, 3) 1\n"
     ]
    }
   ],
   "source": [
    "(a , a_label) = load_data(train_data[0][100])\n",
    "print(train_data[0][100])\n",
    "print(a.shape,a_label)"
   ]
  },
  {
   "cell_type": "code",
   "execution_count": 16,
   "metadata": {},
   "outputs": [
    {
     "name": "stdout",
     "output_type": "stream",
     "text": [
      "Saving /home/angel00540/work_/work/cgh_2022/exp_0607/part_0.zpy ...\n",
      "x_train len:  1255\n",
      "x_test len:  160\n",
      "Saving /home/angel00540/work_/work/cgh_2022/exp_0607/part_1.zpy ...\n",
      "x_train len:  1247\n",
      "x_test len:  161\n",
      "Saving /home/angel00540/work_/work/cgh_2022/exp_0607/part_2.zpy ...\n",
      "x_train len:  1253\n",
      "x_test len:  162\n",
      "Saving /home/angel00540/work_/work/cgh_2022/exp_0607/part_3.zpy ...\n",
      "x_train len:  1247\n",
      "x_test len:  161\n",
      "Saving /home/angel00540/work_/work/cgh_2022/exp_0607/part_4.zpy ...\n",
      "x_train len:  1246\n",
      "x_test len:  162\n",
      "done\n"
     ]
    }
   ],
   "source": [
    "def save_zpy():\n",
    "    pool = Pool(num_threads)\n",
    "    for n in range(k_part):\n",
    "        print('Saving', zpy_save_path+'part_'+str(n)+'.zpy ...')\n",
    "        x_train = []\n",
    "        y_train = []\n",
    "        x_test = []\n",
    "        y_test = []\n",
    "\n",
    "        pool_outputs = pool.map(load_data, train_data[n])\n",
    "        for train,label in pool_outputs:\n",
    "            x_train.append(train)\n",
    "            y_train.append(label)\n",
    "\n",
    "        pool_outputs = pool.map(load_data, test_data[n])\n",
    "        for train,label in pool_outputs:\n",
    "            x_test.append(train)\n",
    "            y_test.append(label)\n",
    "\n",
    "        print('x_train len: ', len(x_train))\n",
    "        print('x_test len: ',len(x_test))\n",
    "\n",
    "        np.savez(\n",
    "            zpy_save_path+'part_'+str(n),\n",
    "            x_train=np.asarray(x_train),\n",
    "            y_train=np.asarray(y_train),\n",
    "            x_test=np.asarray(x_test),\n",
    "            y_test=np.asarray(y_test)\n",
    "        )\n",
    "    print('done')\n",
    "\n",
    "save_zpy()"
   ]
  },
  {
   "cell_type": "code",
   "execution_count": 20,
   "metadata": {},
   "outputs": [],
   "source": [
    "myArch = np.load(zpy_save_path+'part_0.npz')\n",
    "x_train = myArch['x_train']\n",
    "y_train = myArch['y_train']\n"
   ]
  },
  {
   "cell_type": "code",
   "execution_count": 28,
   "metadata": {},
   "outputs": [
    {
     "data": {
      "text/plain": [
       "array([[[-20.723267 , -20.72233  , -17.848858 ],\n",
       "        [-20.723267 , -20.720978 , -20.557343 ],\n",
       "        [-20.709158 , -20.580164 , -18.179161 ],\n",
       "        ...,\n",
       "        [-10.051773 ,  -9.070483 ,  -7.2797503],\n",
       "        [-11.543555 ,  -8.496667 ,  -6.9719405],\n",
       "        [-10.681403 ,  -8.257528 ,  -7.3225017]],\n",
       "\n",
       "       [[-20.723267 , -20.721983 , -17.230473 ],\n",
       "        [-20.723267 , -20.720125 , -20.519484 ],\n",
       "        [-20.705793 , -20.559395 , -17.63157  ],\n",
       "        ...,\n",
       "        [ -9.83373  ,  -8.3634205,  -7.8909063],\n",
       "        [-11.325532 ,  -8.852437 ,  -7.8481927],\n",
       "        [-10.46338  ,  -9.131693 ,  -7.896838 ]],\n",
       "\n",
       "       [[-20.723267 , -20.721355 , -17.09755  ],\n",
       "        [-20.723267 , -20.71859  , -20.512932 ],\n",
       "        [-20.662853 , -20.580996 , -17.51406  ],\n",
       "        ...,\n",
       "        [ -7.6096563,  -6.7607684,  -6.1234956],\n",
       "        [ -8.405311 ,  -7.0193205,  -6.5517406],\n",
       "        [ -7.802183 ,  -7.128696 ,  -6.0640173]],\n",
       "\n",
       "       ...,\n",
       "\n",
       "       [[-20.723267 , -20.722946 , -19.946136 ],\n",
       "        [-20.723267 , -20.722483 , -20.678133 ],\n",
       "        [-20.713524 , -20.663216 , -20.035404 ],\n",
       "        ...,\n",
       "        [-19.810276 , -18.92904  , -17.503553 ],\n",
       "        [-19.869593 , -18.837975 , -17.512812 ],\n",
       "        [-19.765247 , -18.792448 , -17.502268 ]],\n",
       "\n",
       "       [[-20.723267 , -20.72318  , -20.099148 ],\n",
       "        [-20.723267 , -20.723057 , -20.687273 ],\n",
       "        [-20.715935 , -20.69002  , -20.17087  ],\n",
       "        ...,\n",
       "        [-20.16889  , -19.284622 , -17.921015 ],\n",
       "        [-20.132025 , -19.050537 , -17.798    ],\n",
       "        [-19.918003 , -18.949741 , -17.9381   ]],\n",
       "\n",
       "       [[-20.723267 , -20.723259 , -20.61805  ],\n",
       "        [-20.723267 , -20.72325  , -20.717209 ],\n",
       "        [-20.722775 , -20.720089 , -20.63014  ],\n",
       "        ...,\n",
       "        [-20.565727 , -20.242165 , -19.469643 ],\n",
       "        [-20.540909 , -20.183504 , -19.364307 ],\n",
       "        [-20.504868 , -20.161533 , -19.484272 ]]], dtype=float32)"
      ]
     },
     "execution_count": 28,
     "metadata": {},
     "output_type": "execute_result"
    }
   ],
   "source": [
    "x_train[0]"
   ]
  },
  {
   "cell_type": "code",
   "execution_count": 29,
   "metadata": {},
   "outputs": [
    {
     "data": {
      "text/plain": [
       "0"
      ]
     },
     "execution_count": 29,
     "metadata": {},
     "output_type": "execute_result"
    }
   ],
   "source": [
    "y_train[0]"
   ]
  },
  {
   "cell_type": "code",
   "execution_count": 24,
   "metadata": {},
   "outputs": [
    {
     "data": {
      "text/plain": [
       "'/home/angel00540/work_/work/cgh_2022/exp_0607/training_data/ori/0/5_1399332403_05_05_1.npy'"
      ]
     },
     "execution_count": 24,
     "metadata": {},
     "output_type": "execute_result"
    }
   ],
   "source": [
    "train_data[0][0]"
   ]
  },
  {
   "cell_type": "code",
   "execution_count": 25,
   "metadata": {},
   "outputs": [],
   "source": [
    "test_x_train = np.load(train_data[0][0])"
   ]
  },
  {
   "cell_type": "code",
   "execution_count": 26,
   "metadata": {},
   "outputs": [
    {
     "data": {
      "text/plain": [
       "(128, 128, 3)"
      ]
     },
     "execution_count": 26,
     "metadata": {},
     "output_type": "execute_result"
    }
   ],
   "source": [
    "test_x_train.shape"
   ]
  },
  {
   "cell_type": "code",
   "execution_count": 27,
   "metadata": {},
   "outputs": [
    {
     "data": {
      "text/plain": [
       "array([[[-20.723267 , -20.72233  , -17.848858 ],\n",
       "        [-20.723267 , -20.720978 , -20.557343 ],\n",
       "        [-20.709158 , -20.580164 , -18.179161 ],\n",
       "        ...,\n",
       "        [-10.051773 ,  -9.070483 ,  -7.2797503],\n",
       "        [-11.543555 ,  -8.496667 ,  -6.9719405],\n",
       "        [-10.681403 ,  -8.257528 ,  -7.3225017]],\n",
       "\n",
       "       [[-20.723267 , -20.721983 , -17.230473 ],\n",
       "        [-20.723267 , -20.720125 , -20.519484 ],\n",
       "        [-20.705793 , -20.559395 , -17.63157  ],\n",
       "        ...,\n",
       "        [ -9.83373  ,  -8.3634205,  -7.8909063],\n",
       "        [-11.325532 ,  -8.852437 ,  -7.8481927],\n",
       "        [-10.46338  ,  -9.131693 ,  -7.896838 ]],\n",
       "\n",
       "       [[-20.723267 , -20.721355 , -17.09755  ],\n",
       "        [-20.723267 , -20.71859  , -20.512932 ],\n",
       "        [-20.662853 , -20.580996 , -17.51406  ],\n",
       "        ...,\n",
       "        [ -7.6096563,  -6.7607684,  -6.1234956],\n",
       "        [ -8.405311 ,  -7.0193205,  -6.5517406],\n",
       "        [ -7.802183 ,  -7.128696 ,  -6.0640173]],\n",
       "\n",
       "       ...,\n",
       "\n",
       "       [[-20.723267 , -20.722946 , -19.946136 ],\n",
       "        [-20.723267 , -20.722483 , -20.678133 ],\n",
       "        [-20.713524 , -20.663216 , -20.035404 ],\n",
       "        ...,\n",
       "        [-19.810276 , -18.92904  , -17.503553 ],\n",
       "        [-19.869593 , -18.837975 , -17.512812 ],\n",
       "        [-19.765247 , -18.792448 , -17.502268 ]],\n",
       "\n",
       "       [[-20.723267 , -20.72318  , -20.099148 ],\n",
       "        [-20.723267 , -20.723057 , -20.687273 ],\n",
       "        [-20.715935 , -20.69002  , -20.17087  ],\n",
       "        ...,\n",
       "        [-20.16889  , -19.284622 , -17.921015 ],\n",
       "        [-20.132025 , -19.050537 , -17.798    ],\n",
       "        [-19.918003 , -18.949741 , -17.9381   ]],\n",
       "\n",
       "       [[-20.723267 , -20.723259 , -20.61805  ],\n",
       "        [-20.723267 , -20.72325  , -20.717209 ],\n",
       "        [-20.722775 , -20.720089 , -20.63014  ],\n",
       "        ...,\n",
       "        [-20.565727 , -20.242165 , -19.469643 ],\n",
       "        [-20.540909 , -20.183504 , -19.364307 ],\n",
       "        [-20.504868 , -20.161533 , -19.484272 ]]], dtype=float32)"
      ]
     },
     "execution_count": 27,
     "metadata": {},
     "output_type": "execute_result"
    }
   ],
   "source": [
    "test_x_train"
   ]
  },
  {
   "cell_type": "code",
   "execution_count": null,
   "metadata": {},
   "outputs": [],
   "source": []
  }
 ],
 "metadata": {
  "kernelspec": {
   "display_name": "Python 3.9.7 64-bit ('cgh_tflite')",
   "language": "python",
   "name": "python3"
  },
  "language_info": {
   "codemirror_mode": {
    "name": "ipython",
    "version": 3
   },
   "file_extension": ".py",
   "mimetype": "text/x-python",
   "name": "python",
   "nbconvert_exporter": "python",
   "pygments_lexer": "ipython3",
   "version": "3.9.7"
  },
  "orig_nbformat": 4,
  "vscode": {
   "interpreter": {
    "hash": "d20f1892c47f860c0f70ddee32a3691a362d56c60fa308568bd0272f56672cff"
   }
  }
 },
 "nbformat": 4,
 "nbformat_minor": 2
}
