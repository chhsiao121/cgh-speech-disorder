{
 "cells": [
  {
   "cell_type": "code",
   "execution_count": 13,
   "metadata": {},
   "outputs": [],
   "source": [
    "import seaborn as sns\n",
    "from tensorflow.keras.models import load_model\n",
    "import numpy as np\n",
    "import tensorflow as tf\n",
    "import matplotlib.pyplot as plt\n",
    "import matplotlib\n",
    "import os\n",
    "import tensorflow_addons as tfa\n",
    "from tensorflow import keras\n",
    "from tensorflow.keras.utils import to_categorical\n",
    "os.environ[\"CUDA_VISIBLE_DEVICES\"] = \"7\" #指定第8張顯卡\n",
    "# matplotlib.use('Agg')\n"
   ]
  },
  {
   "cell_type": "code",
   "execution_count": 31,
   "metadata": {},
   "outputs": [],
   "source": [
    "NAME = 'InceptionV3_paper_e1_c4_p4_bs128'\n",
    "TEST_PATH = '/home/angel00540/work_/work/cgh_2022/exp_0607/'\n",
    "LOAD_PATH = '/home/angel00540/work_/work/cgh_2022/exp_0607/part_2.npz'\n",
    "WEIGHT_PATH = '/home/angel00540/work_/work/cgh_2022/exp_0607/weight/InceptionV3_exp_0607_c2_p4_bs128_data_0608_2108.04-0.86-0.56.hdf5'\n",
    "# /home/power703/work/cgh/weight/DenseNet201_chu_13_c2_p3_bs32_data_0510_1034.33-0.74-0.86.hdf5\n",
    "class_weight = {}\n",
    "INPUT_X=128\n",
    "INPUT_Y=128\n",
    "INPUT_Z=3\n",
    "BATCH_SIZE = 128"
   ]
  },
  {
   "cell_type": "code",
   "execution_count": 32,
   "metadata": {},
   "outputs": [],
   "source": [
    "def get_dataset(PATH):\n",
    "\n",
    "    x = np.load(PATH, mmap_mode='r', allow_pickle=True)\n",
    "    # x_train = x['x_train']\n",
    "    # y_train = x['y_train']\n",
    "    x_test = x['x_test']\n",
    "    y_test = x['y_test']\n",
    "\n",
    "    x_test.astype('float16')\n",
    "    y_test.astype('float16')\n",
    "\n",
    "    # total = len(y_train)\n",
    "    # unique, counts = np.unique(y_train, return_counts=True)\n",
    "    # class_weight = dict(zip(unique, counts))\n",
    "    # for l in class_weight:\n",
    "    #     w = class_weight[l]\n",
    "    #     new = (1 / w)*(total)/2.0\n",
    "    #     print('l: ', l, ' new: ', new)\n",
    "    #     class_weight.update({l: new})\n",
    "\n",
    "    # x_train = x_train.reshape(x_train.shape[0], INPUT_X, INPUT_Y, INPUT_Z)\n",
    "    # y_train = to_categorical(y_train, num_classes=classes)\n",
    "    print(\"x_test.shape:\", x_test.shape)\n",
    "    x_test = x_test.reshape(x_test.shape[0], INPUT_X, INPUT_Y, INPUT_Z)\n",
    "    print(\"x_test.shape:\", x_test.shape)\n",
    "    # y_test = to_categorical(y_test, num_classes=classes)\n",
    "\n",
    "    # SHUFFLE_BUFFER_SIZE = len(x_train)\n",
    "\n",
    "    # return(\n",
    "    #     tf.data.Dataset.from_tensor_slices(\n",
    "    #         (x_train, y_train)).shuffle(SHUFFLE_BUFFER_SIZE).batch(BATCH_SIZE),\n",
    "    #     tf.data.Dataset.from_tensor_slices(\n",
    "    #         (x_test, y_test)).batch(BATCH_SIZE)\n",
    "    # )\n",
    "    return(x_test, y_test)"
   ]
  },
  {
   "cell_type": "code",
   "execution_count": 33,
   "metadata": {},
   "outputs": [],
   "source": [
    "classes = []\n",
    "# labels = [ 'Velar', 'Stopping','Affricate','Consonant vowel']\n",
    "labels = [ 'error', 'correct']\n"
   ]
  },
  {
   "cell_type": "code",
   "execution_count": 34,
   "metadata": {},
   "outputs": [
    {
     "name": "stdout",
     "output_type": "stream",
     "text": [
      "['0', '16']\n"
     ]
    }
   ],
   "source": [
    "for n, _, _ in os.walk(os.path.abspath('/home/angel00540/work_/work/cgh_2022/exp_0603/data_syllable/training/training_data/ori')):\n",
    "    classes.append(n.split('/')[-1])\n",
    "\n",
    "classes = classes[1:]\n",
    "classes = [int(x) for x in classes]\n",
    "classes.sort()\n",
    "\n",
    "classes = [str(x) for x in classes]\n",
    "print(classes)\n"
   ]
  },
  {
   "cell_type": "code",
   "execution_count": 35,
   "metadata": {},
   "outputs": [
    {
     "name": "stdout",
     "output_type": "stream",
     "text": [
      "x_test.shape: (162, 128, 128, 3)\n",
      "x_test.shape: (162, 128, 128, 3)\n"
     ]
    }
   ],
   "source": [
    "x_test, y_test = get_dataset(LOAD_PATH)\n",
    "\n",
    "model = load_model(WEIGHT_PATH)"
   ]
  },
  {
   "cell_type": "code",
   "execution_count": 36,
   "metadata": {
    "scrolled": true
   },
   "outputs": [],
   "source": [
    "test = model.predict(x_test)"
   ]
  },
  {
   "cell_type": "code",
   "execution_count": 29,
   "metadata": {},
   "outputs": [
    {
     "data": {
      "text/plain": [
       "array([[0.37934124, 0.62065876],\n",
       "       [0.4342487 , 0.56575125],\n",
       "       [0.41588342, 0.5841166 ],\n",
       "       [0.42332396, 0.5766761 ],\n",
       "       [0.4268365 , 0.5731635 ],\n",
       "       [0.410438  , 0.589562  ],\n",
       "       [0.42357755, 0.57642245],\n",
       "       [0.43780005, 0.56219995],\n",
       "       [0.38722143, 0.6127786 ],\n",
       "       [0.438269  , 0.56173104],\n",
       "       [0.28651118, 0.7134888 ],\n",
       "       [0.4277418 , 0.5722582 ],\n",
       "       [0.3172865 , 0.6827135 ],\n",
       "       [0.4135785 , 0.5864215 ],\n",
       "       [0.4434698 , 0.55653024],\n",
       "       [0.39056304, 0.6094369 ],\n",
       "       [0.37956893, 0.62043107],\n",
       "       [0.3680827 , 0.6319173 ],\n",
       "       [0.40575182, 0.5942482 ],\n",
       "       [0.4445469 , 0.5554532 ],\n",
       "       [0.3333373 , 0.66666263],\n",
       "       [0.40929827, 0.59070176],\n",
       "       [0.3596966 , 0.6403035 ],\n",
       "       [0.44765761, 0.5523424 ],\n",
       "       [0.39606446, 0.60393554],\n",
       "       [0.39769158, 0.60230845],\n",
       "       [0.4430956 , 0.5569044 ],\n",
       "       [0.39554635, 0.6044537 ],\n",
       "       [0.3974107 , 0.6025893 ],\n",
       "       [0.41726923, 0.5827308 ],\n",
       "       [0.4376277 , 0.56237227],\n",
       "       [0.39614612, 0.6038539 ],\n",
       "       [0.4465342 , 0.55346584],\n",
       "       [0.40178645, 0.5982136 ],\n",
       "       [0.41777733, 0.5822227 ],\n",
       "       [0.37911844, 0.62088156],\n",
       "       [0.37624246, 0.62375754],\n",
       "       [0.4250962 , 0.57490385],\n",
       "       [0.38759765, 0.6124024 ],\n",
       "       [0.3579289 , 0.642071  ],\n",
       "       [0.35434934, 0.6456507 ],\n",
       "       [0.41605797, 0.583942  ],\n",
       "       [0.44347098, 0.556529  ],\n",
       "       [0.37745243, 0.62254757],\n",
       "       [0.43310583, 0.5668942 ],\n",
       "       [0.3780306 , 0.6219694 ],\n",
       "       [0.40630424, 0.59369576],\n",
       "       [0.3791717 , 0.62082833],\n",
       "       [0.36820978, 0.63179016],\n",
       "       [0.38544393, 0.6145561 ],\n",
       "       [0.41651833, 0.58348167],\n",
       "       [0.37536713, 0.62463284],\n",
       "       [0.43334448, 0.5666555 ],\n",
       "       [0.41264412, 0.5873559 ],\n",
       "       [0.4317321 , 0.56826794],\n",
       "       [0.3250992 , 0.6749008 ],\n",
       "       [0.37761307, 0.62238693],\n",
       "       [0.4369787 , 0.56302136],\n",
       "       [0.4047127 , 0.59528726],\n",
       "       [0.39806268, 0.6019373 ],\n",
       "       [0.43414932, 0.5658507 ],\n",
       "       [0.43374488, 0.5662551 ],\n",
       "       [0.39374858, 0.6062514 ],\n",
       "       [0.41620097, 0.58379906],\n",
       "       [0.33923692, 0.6607631 ],\n",
       "       [0.31547144, 0.6845286 ],\n",
       "       [0.35733715, 0.6426628 ],\n",
       "       [0.36932212, 0.6306779 ],\n",
       "       [0.35486895, 0.64513105],\n",
       "       [0.3928881 , 0.60711193],\n",
       "       [0.41488403, 0.585116  ],\n",
       "       [0.38657066, 0.6134293 ],\n",
       "       [0.39578027, 0.6042198 ],\n",
       "       [0.39336285, 0.6066371 ],\n",
       "       [0.38719267, 0.61280733],\n",
       "       [0.416181  , 0.58381903],\n",
       "       [0.38484904, 0.6151509 ],\n",
       "       [0.42211735, 0.57788265],\n",
       "       [0.43424582, 0.5657542 ],\n",
       "       [0.28613442, 0.7138656 ],\n",
       "       [0.34860206, 0.651398  ],\n",
       "       [0.42355022, 0.5764498 ],\n",
       "       [0.40440944, 0.59559053],\n",
       "       [0.3479139 , 0.65208614],\n",
       "       [0.4210074 , 0.57899266],\n",
       "       [0.42168638, 0.57831365],\n",
       "       [0.40224218, 0.5977578 ],\n",
       "       [0.28395694, 0.716043  ],\n",
       "       [0.395723  , 0.6042771 ],\n",
       "       [0.27058458, 0.72941536],\n",
       "       [0.45746306, 0.542537  ],\n",
       "       [0.4021992 , 0.5978008 ],\n",
       "       [0.3684705 , 0.6315295 ],\n",
       "       [0.42895657, 0.5710435 ],\n",
       "       [0.4558793 , 0.54412067],\n",
       "       [0.43545023, 0.5645498 ],\n",
       "       [0.36851647, 0.6314835 ],\n",
       "       [0.3757095 , 0.6242904 ],\n",
       "       [0.4142737 , 0.5857263 ],\n",
       "       [0.45560262, 0.5443974 ],\n",
       "       [0.4401161 , 0.5598839 ],\n",
       "       [0.4178476 , 0.5821524 ],\n",
       "       [0.44699976, 0.5530003 ],\n",
       "       [0.31710538, 0.68289465],\n",
       "       [0.37756062, 0.6224394 ],\n",
       "       [0.43399474, 0.56600523],\n",
       "       [0.38606074, 0.6139392 ],\n",
       "       [0.30390352, 0.6960964 ],\n",
       "       [0.43156967, 0.5684303 ],\n",
       "       [0.42261174, 0.5773883 ],\n",
       "       [0.41900587, 0.5809941 ],\n",
       "       [0.4090206 , 0.59097946],\n",
       "       [0.36306545, 0.6369346 ],\n",
       "       [0.41811442, 0.5818856 ],\n",
       "       [0.4393084 , 0.5606916 ],\n",
       "       [0.30044386, 0.6995561 ],\n",
       "       [0.3893471 , 0.61065286],\n",
       "       [0.40801415, 0.5919859 ],\n",
       "       [0.3781912 , 0.6218088 ],\n",
       "       [0.4641684 , 0.53583163],\n",
       "       [0.40833616, 0.59166384],\n",
       "       [0.40640265, 0.59359735],\n",
       "       [0.45377746, 0.5462225 ],\n",
       "       [0.44056872, 0.5594313 ],\n",
       "       [0.3932671 , 0.60673285],\n",
       "       [0.36353078, 0.6364692 ],\n",
       "       [0.3840811 , 0.61591893],\n",
       "       [0.4053556 , 0.59464437],\n",
       "       [0.42531833, 0.57468164],\n",
       "       [0.45239305, 0.54760695],\n",
       "       [0.3775916 , 0.62240845],\n",
       "       [0.3903331 , 0.6096669 ],\n",
       "       [0.42307198, 0.5769281 ],\n",
       "       [0.3942054 , 0.60579467],\n",
       "       [0.38688743, 0.6131125 ],\n",
       "       [0.3699628 , 0.63003725],\n",
       "       [0.41276762, 0.5872324 ],\n",
       "       [0.41334423, 0.5866558 ],\n",
       "       [0.44809616, 0.5519039 ],\n",
       "       [0.40960947, 0.5903905 ],\n",
       "       [0.370089  , 0.629911  ],\n",
       "       [0.40079844, 0.59920156],\n",
       "       [0.41610155, 0.5838984 ],\n",
       "       [0.391568  , 0.608432  ],\n",
       "       [0.42086402, 0.57913595],\n",
       "       [0.4176705 , 0.5823295 ],\n",
       "       [0.40375808, 0.59624195],\n",
       "       [0.40020838, 0.5997916 ],\n",
       "       [0.42135087, 0.5786491 ],\n",
       "       [0.4046979 , 0.5953021 ],\n",
       "       [0.41591376, 0.58408624],\n",
       "       [0.44787297, 0.55212706],\n",
       "       [0.46971643, 0.5302835 ],\n",
       "       [0.40734532, 0.5926547 ],\n",
       "       [0.41928136, 0.58071864],\n",
       "       [0.383843  , 0.61615694],\n",
       "       [0.3168211 , 0.68317896],\n",
       "       [0.41107976, 0.58892024],\n",
       "       [0.29347983, 0.70652026],\n",
       "       [0.43465462, 0.5653454 ],\n",
       "       [0.46024528, 0.5397547 ]], dtype=float32)"
      ]
     },
     "execution_count": 29,
     "metadata": {},
     "output_type": "execute_result"
    }
   ],
   "source": [
    "test\n"
   ]
  },
  {
   "cell_type": "code",
   "execution_count": 37,
   "metadata": {},
   "outputs": [],
   "source": [
    "y_pred = np.argmax(test, 1)\n",
    "y_true = y_test\n"
   ]
  },
  {
   "cell_type": "code",
   "execution_count": 14,
   "metadata": {
    "scrolled": true
   },
   "outputs": [
    {
     "ename": "IndexError",
     "evalue": "index 5000 is out of bounds for axis 0 with size 162",
     "output_type": "error",
     "traceback": [
      "\u001b[0;31m---------------------------------------------------------------------------\u001b[0m",
      "\u001b[0;31mIndexError\u001b[0m                                Traceback (most recent call last)",
      "\u001b[0;32m/tmp/ipykernel_1214/953882857.py\u001b[0m in \u001b[0;36m<module>\u001b[0;34m\u001b[0m\n\u001b[1;32m      1\u001b[0m \u001b[0;32mfor\u001b[0m \u001b[0mi\u001b[0m \u001b[0;32min\u001b[0m \u001b[0mrange\u001b[0m\u001b[0;34m(\u001b[0m\u001b[0;36m5000\u001b[0m\u001b[0;34m,\u001b[0m\u001b[0;36m5020\u001b[0m\u001b[0;34m)\u001b[0m\u001b[0;34m:\u001b[0m\u001b[0;34m\u001b[0m\u001b[0;34m\u001b[0m\u001b[0m\n\u001b[0;32m----> 2\u001b[0;31m     \u001b[0mprint\u001b[0m\u001b[0;34m(\u001b[0m\u001b[0mtest\u001b[0m\u001b[0;34m[\u001b[0m\u001b[0mi\u001b[0m\u001b[0;34m,\u001b[0m\u001b[0;34m:\u001b[0m\u001b[0;34m]\u001b[0m\u001b[0;34m)\u001b[0m\u001b[0;34m\u001b[0m\u001b[0;34m\u001b[0m\u001b[0m\n\u001b[0m\u001b[1;32m      3\u001b[0m     \u001b[0mprint\u001b[0m\u001b[0;34m(\u001b[0m\u001b[0my_pred\u001b[0m\u001b[0;34m[\u001b[0m\u001b[0mi\u001b[0m\u001b[0;34m]\u001b[0m\u001b[0;34m)\u001b[0m\u001b[0;34m\u001b[0m\u001b[0;34m\u001b[0m\u001b[0m\n",
      "\u001b[0;31mIndexError\u001b[0m: index 5000 is out of bounds for axis 0 with size 162"
     ]
    }
   ],
   "source": [
    "for i in range(5000,5020):\n",
    "    print(test[i,:])\n",
    "    print(y_pred[i])"
   ]
  },
  {
   "cell_type": "code",
   "execution_count": 38,
   "metadata": {},
   "outputs": [
    {
     "data": {
      "image/png": "[encoded data removed]",
      "text/plain": [
       "<Figure size 720x576 with 2 Axes>"
      ]
     },
     "metadata": {
      "needs_background": "light"
     },
     "output_type": "display_data"
    },
    {
     "data": {
      "text/plain": [
       "<Figure size 432x288 with 0 Axes>"
      ]
     },
     "metadata": {},
     "output_type": "display_data"
    }
   ],
   "source": [
    "confusion_mtx = tf.math.confusion_matrix(y_true, y_pred)\n",
    "plt.figure(figsize=(10, 8))\n",
    "plt.rcParams.update({'font.size': 24})\n",
    "sns.heatmap(confusion_mtx, xticklabels=labels, yticklabels=labels,\n",
    "            annot=True, fmt='g')\n",
    "plt.xlabel('Predicted class')\n",
    "plt.ylabel('True class')\n",
    "plt.title(NAME)\n",
    "plt.tight_layout()\n",
    "plt.show()\n",
    "plt.savefig(NAME+'.svg')  # , bbox_inches='tight', facecolor='w'"
   ]
  },
  {
   "cell_type": "code",
   "execution_count": 16,
   "metadata": {},
   "outputs": [],
   "source": [
    "y_true = to_categorical(y_true,len(classes))\n",
    "y_pred = to_categorical(y_pred,len(classes))"
   ]
  },
  {
   "cell_type": "code",
   "execution_count": 17,
   "metadata": {},
   "outputs": [
    {
     "name": "stdout",
     "output_type": "stream",
     "text": [
      "Accuracy:  0.86419755\n"
     ]
    }
   ],
   "source": [
    "m = tf.keras.metrics.Accuracy()\n",
    "m.update_state(y_true, y_pred)\n",
    "print('Accuracy: ',m.result().numpy())"
   ]
  },
  {
   "cell_type": "code",
   "execution_count": 18,
   "metadata": {},
   "outputs": [
    {
     "name": "stdout",
     "output_type": "stream",
     "text": [
      "F1Score [0.         0.92715234]\n"
     ]
    }
   ],
   "source": [
    "m = tfa.metrics.F1Score(num_classes=len(classes), threshold=0.5)\n",
    "m.update_state(y_true, y_pred)\n",
    "print('F1Score',m.result().numpy())"
   ]
  },
  {
   "cell_type": "code",
   "execution_count": 19,
   "metadata": {},
   "outputs": [
    {
     "name": "stdout",
     "output_type": "stream",
     "text": [
      "Precision 0.86419755\n"
     ]
    }
   ],
   "source": [
    "m = tf.keras.metrics.Precision()\n",
    "m.update_state(y_true, y_pred)\n",
    "print('Precision',m.result().numpy())"
   ]
  },
  {
   "cell_type": "code",
   "execution_count": 20,
   "metadata": {},
   "outputs": [
    {
     "name": "stdout",
     "output_type": "stream",
     "text": [
      "Recall 0.86419755\n"
     ]
    }
   ],
   "source": [
    "m = tf.keras.metrics.Recall()\n",
    "m.update_state(y_true, y_pred)\n",
    "print('Recall',m.result().numpy())"
   ]
  },
  {
   "cell_type": "code",
   "execution_count": 75,
   "metadata": {},
   "outputs": [
    {
     "name": "stdout",
     "output_type": "stream",
     "text": [
      "AUC 0.97004926\n"
     ]
    }
   ],
   "source": [
    "m = tf.keras.metrics.AUC()\n",
    "m.update_state(y_true, y_pred)\n",
    "print('AUC',m.result().numpy())"
   ]
  },
  {
   "cell_type": "code",
   "execution_count": null,
   "metadata": {},
   "outputs": [],
   "source": []
  }
 ],
 "metadata": {
  "interpreter": {
   "hash": "d20f1892c47f860c0f70ddee32a3691a362d56c60fa308568bd0272f56672cff"
  },
  "kernelspec": {
   "display_name": "Python 3 (ipykernel)",
   "language": "python",
   "name": "python3"
  },
  "language_info": {
   "codemirror_mode": {
    "name": "ipython",
    "version": 3
   },
   "file_extension": ".py",
   "mimetype": "text/x-python",
   "name": "python",
   "nbconvert_exporter": "python",
   "pygments_lexer": "ipython3",
   "version": "3.9.7"
  }
 },
 "nbformat": 4,
 "nbformat_minor": 2
}
