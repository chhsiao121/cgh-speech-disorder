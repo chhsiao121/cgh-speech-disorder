{
 "cells": [
  {
   "cell_type": "code",
   "execution_count": 1,
   "metadata": {},
   "outputs": [
    {
     "name": "stderr",
     "output_type": "stream",
     "text": [
      "/home/angel00540/.local/lib/python3.8/site-packages/scipy/__init__.py:138: UserWarning: A NumPy version >=1.16.5 and <1.23.0 is required for this version of SciPy (detected version 1.23.3)\n",
      "  warnings.warn(f\"A NumPy version >={np_minversion} and <{np_maxversion} is required for this version of \"\n"
     ]
    }
   ],
   "source": [
    "import seaborn as sns\n",
    "import pandas as pd\n",
    "import matplotlib.pyplot as plt"
   ]
  },
  {
   "cell_type": "code",
   "execution_count": 2,
   "id": "d66f9b89",
   "metadata": {},
   "outputs": [
    {
     "data": {
      "text/plain": [
       "<AxesSubplot:xlabel='age'>"
      ]
     },
     "execution_count": 2,
     "metadata": {},
     "output_type": "execute_result"
    },
    {
     "data": {
      "image/png": "[encoded data removed]",
      "text/plain": [
       "<Figure size 432x288 with 1 Axes>"
      ]
     },
     "metadata": {
      "needs_background": "light"
     },
     "output_type": "display_data"
    }
   ],
   "source": [
    "df = sns.load_dataset(\"titanic\")\n",
    "sns.boxplot(x=df[\"age\"])"
   ]
  },
  {
   "cell_type": "code",
   "execution_count": 3,
   "id": "19e47885",
   "metadata": {},
   "outputs": [
    {
     "data": {
      "text/plain": [
       "<AxesSubplot:xlabel='class', ylabel='age'>"
      ]
     },
     "execution_count": 3,
     "metadata": {},
     "output_type": "execute_result"
    },
    {
     "data": {
      "image/png": "[encoded data removed]",
      "text/plain": [
       "<Figure size 432x288 with 1 Axes>"
      ]
     },
     "metadata": {
      "needs_background": "light"
     },
     "output_type": "display_data"
    }
   ],
   "source": [
    "sns.boxplot(data=df, x=\"class\", y=\"age\", hue=\"alive\")\n"
   ]
  },
  {
   "cell_type": "markdown",
   "id": "0f188285",
   "metadata": {},
   "source": [
    "## Backing"
   ]
  },
  {
   "cell_type": "markdown",
   "id": "c2c36bd4",
   "metadata": {},
   "source": [
    "### EfficientNetV2B0"
   ]
  },
  {
   "cell_type": "code",
   "execution_count": 4,
   "id": "0e74922c",
   "metadata": {},
   "outputs": [],
   "source": [
    "ListACC = [0.72,0.53,0.50,0.69,0.73,0.65,0.66,0.74,0.54]\n",
    "ListPre = [0.21,0.14,0.15,0.55,0.61,0.49,0.18,0.26,0.16]\n",
    "ListRecall = [0.40,0.47,0.59,0.54,0.56,0.63,0.44,0.53,0.59]\n",
    "ListAuc = [0.60,0.51,0.54,0.71,0.74,0.68,0.58,0.64,0.55]\n",
    "ListPrc = [0.19,0.14,0.15,0.55,0.59,0.50,0.18,0.23,0.18]\n",
    "ListMission = ['child','child','child','adult','adult','adult','mix','mix','mix']"
   ]
  },
  {
   "cell_type": "code",
   "execution_count": 5,
   "id": "3d227fb1",
   "metadata": {},
   "outputs": [],
   "source": [
    "SerValue = pd.Series(ListACC+ListPre+ListRecall+ListAuc+ListPrc)\n",
    "SerValueType = pd.Series(\n",
    "    ['Accuracy', 'Accuracy', 'Accuracy', 'Accuracy', 'Accuracy', 'Accuracy', 'Accuracy', 'Accuracy', 'Accuracy',\n",
    "     'Precision', 'Precision', 'Precision', 'Precision', 'Precision', 'Precision', 'Precision', 'Precision', 'Precision',\n",
    "     'Recall', 'Recall', 'Recall', 'Recall', 'Recall', 'Recall', 'Recall', 'Recall', 'Recall',\n",
    "     'Auc', 'Auc', 'Auc', 'Auc', 'Auc', 'Auc', 'Auc', 'Auc', 'Auc',\n",
    "     'Prc', 'Prc', 'Prc', 'Prc', 'Prc', 'Prc', 'Prc', 'Prc', 'Prc'])\n",
    "SerMission = pd.Series(ListMission+ListMission + ListMission+ListMission+ListMission)\n"
   ]
  },
  {
   "cell_type": "code",
   "execution_count": 6,
   "id": "4c525c95",
   "metadata": {},
   "outputs": [],
   "source": [
    "df_Eff_backing = pd.DataFrame({'Percentage':SerValue, 'Measure':SerValueType, 'Mission':SerMission})"
   ]
  },
  {
   "cell_type": "code",
   "execution_count": 7,
   "id": "d1973de8",
   "metadata": {},
   "outputs": [
    {
     "data": {
      "text/html": [
       "<div>\n",
       "<style scoped>\n",
       "    .dataframe tbody tr th:only-of-type {\n",
       "        vertical-align: middle;\n",
       "    }\n",
       "\n",
       "    .dataframe tbody tr th {\n",
       "        vertical-align: top;\n",
       "    }\n",
       "\n",
       "    .dataframe thead th {\n",
       "        text-align: right;\n",
       "    }\n",
       "</style>\n",
       "<table border=\"1\" class=\"dataframe\">\n",
       "  <thead>\n",
       "    <tr style=\"text-align: right;\">\n",
       "      <th></th>\n",
       "      <th>Percentage</th>\n",
       "      <th>Measure</th>\n",
       "      <th>Mission</th>\n",
       "    </tr>\n",
       "  </thead>\n",
       "  <tbody>\n",
       "    <tr>\n",
       "      <th>0</th>\n",
       "      <td>0.72</td>\n",
       "      <td>Accuracy</td>\n",
       "      <td>child</td>\n",
       "    </tr>\n",
       "    <tr>\n",
       "      <th>1</th>\n",
       "      <td>0.53</td>\n",
       "      <td>Accuracy</td>\n",
       "      <td>child</td>\n",
       "    </tr>\n",
       "    <tr>\n",
       "      <th>2</th>\n",
       "      <td>0.50</td>\n",
       "      <td>Accuracy</td>\n",
       "      <td>child</td>\n",
       "    </tr>\n",
       "    <tr>\n",
       "      <th>3</th>\n",
       "      <td>0.69</td>\n",
       "      <td>Accuracy</td>\n",
       "      <td>adult</td>\n",
       "    </tr>\n",
       "    <tr>\n",
       "      <th>4</th>\n",
       "      <td>0.73</td>\n",
       "      <td>Accuracy</td>\n",
       "      <td>adult</td>\n",
       "    </tr>\n",
       "    <tr>\n",
       "      <th>5</th>\n",
       "      <td>0.65</td>\n",
       "      <td>Accuracy</td>\n",
       "      <td>adult</td>\n",
       "    </tr>\n",
       "    <tr>\n",
       "      <th>6</th>\n",
       "      <td>0.66</td>\n",
       "      <td>Accuracy</td>\n",
       "      <td>mix</td>\n",
       "    </tr>\n",
       "    <tr>\n",
       "      <th>7</th>\n",
       "      <td>0.74</td>\n",
       "      <td>Accuracy</td>\n",
       "      <td>mix</td>\n",
       "    </tr>\n",
       "    <tr>\n",
       "      <th>8</th>\n",
       "      <td>0.54</td>\n",
       "      <td>Accuracy</td>\n",
       "      <td>mix</td>\n",
       "    </tr>\n",
       "    <tr>\n",
       "      <th>9</th>\n",
       "      <td>0.21</td>\n",
       "      <td>Precision</td>\n",
       "      <td>child</td>\n",
       "    </tr>\n",
       "    <tr>\n",
       "      <th>10</th>\n",
       "      <td>0.14</td>\n",
       "      <td>Precision</td>\n",
       "      <td>child</td>\n",
       "    </tr>\n",
       "    <tr>\n",
       "      <th>11</th>\n",
       "      <td>0.15</td>\n",
       "      <td>Precision</td>\n",
       "      <td>child</td>\n",
       "    </tr>\n",
       "    <tr>\n",
       "      <th>12</th>\n",
       "      <td>0.55</td>\n",
       "      <td>Precision</td>\n",
       "      <td>adult</td>\n",
       "    </tr>\n",
       "    <tr>\n",
       "      <th>13</th>\n",
       "      <td>0.61</td>\n",
       "      <td>Precision</td>\n",
       "      <td>adult</td>\n",
       "    </tr>\n",
       "    <tr>\n",
       "      <th>14</th>\n",
       "      <td>0.49</td>\n",
       "      <td>Precision</td>\n",
       "      <td>adult</td>\n",
       "    </tr>\n",
       "    <tr>\n",
       "      <th>15</th>\n",
       "      <td>0.18</td>\n",
       "      <td>Precision</td>\n",
       "      <td>mix</td>\n",
       "    </tr>\n",
       "    <tr>\n",
       "      <th>16</th>\n",
       "      <td>0.26</td>\n",
       "      <td>Precision</td>\n",
       "      <td>mix</td>\n",
       "    </tr>\n",
       "    <tr>\n",
       "      <th>17</th>\n",
       "      <td>0.16</td>\n",
       "      <td>Precision</td>\n",
       "      <td>mix</td>\n",
       "    </tr>\n",
       "    <tr>\n",
       "      <th>18</th>\n",
       "      <td>0.40</td>\n",
       "      <td>Recall</td>\n",
       "      <td>child</td>\n",
       "    </tr>\n",
       "    <tr>\n",
       "      <th>19</th>\n",
       "      <td>0.47</td>\n",
       "      <td>Recall</td>\n",
       "      <td>child</td>\n",
       "    </tr>\n",
       "    <tr>\n",
       "      <th>20</th>\n",
       "      <td>0.59</td>\n",
       "      <td>Recall</td>\n",
       "      <td>child</td>\n",
       "    </tr>\n",
       "    <tr>\n",
       "      <th>21</th>\n",
       "      <td>0.54</td>\n",
       "      <td>Recall</td>\n",
       "      <td>adult</td>\n",
       "    </tr>\n",
       "    <tr>\n",
       "      <th>22</th>\n",
       "      <td>0.56</td>\n",
       "      <td>Recall</td>\n",
       "      <td>adult</td>\n",
       "    </tr>\n",
       "    <tr>\n",
       "      <th>23</th>\n",
       "      <td>0.63</td>\n",
       "      <td>Recall</td>\n",
       "      <td>adult</td>\n",
       "    </tr>\n",
       "    <tr>\n",
       "      <th>24</th>\n",
       "      <td>0.44</td>\n",
       "      <td>Recall</td>\n",
       "      <td>mix</td>\n",
       "    </tr>\n",
       "    <tr>\n",
       "      <th>25</th>\n",
       "      <td>0.53</td>\n",
       "      <td>Recall</td>\n",
       "      <td>mix</td>\n",
       "    </tr>\n",
       "    <tr>\n",
       "      <th>26</th>\n",
       "      <td>0.59</td>\n",
       "      <td>Recall</td>\n",
       "      <td>mix</td>\n",
       "    </tr>\n",
       "    <tr>\n",
       "      <th>27</th>\n",
       "      <td>0.60</td>\n",
       "      <td>Auc</td>\n",
       "      <td>child</td>\n",
       "    </tr>\n",
       "    <tr>\n",
       "      <th>28</th>\n",
       "      <td>0.51</td>\n",
       "      <td>Auc</td>\n",
       "      <td>child</td>\n",
       "    </tr>\n",
       "    <tr>\n",
       "      <th>29</th>\n",
       "      <td>0.54</td>\n",
       "      <td>Auc</td>\n",
       "      <td>child</td>\n",
       "    </tr>\n",
       "    <tr>\n",
       "      <th>30</th>\n",
       "      <td>0.71</td>\n",
       "      <td>Auc</td>\n",
       "      <td>adult</td>\n",
       "    </tr>\n",
       "    <tr>\n",
       "      <th>31</th>\n",
       "      <td>0.74</td>\n",
       "      <td>Auc</td>\n",
       "      <td>adult</td>\n",
       "    </tr>\n",
       "    <tr>\n",
       "      <th>32</th>\n",
       "      <td>0.68</td>\n",
       "      <td>Auc</td>\n",
       "      <td>adult</td>\n",
       "    </tr>\n",
       "    <tr>\n",
       "      <th>33</th>\n",
       "      <td>0.58</td>\n",
       "      <td>Auc</td>\n",
       "      <td>mix</td>\n",
       "    </tr>\n",
       "    <tr>\n",
       "      <th>34</th>\n",
       "      <td>0.64</td>\n",
       "      <td>Auc</td>\n",
       "      <td>mix</td>\n",
       "    </tr>\n",
       "    <tr>\n",
       "      <th>35</th>\n",
       "      <td>0.55</td>\n",
       "      <td>Auc</td>\n",
       "      <td>mix</td>\n",
       "    </tr>\n",
       "    <tr>\n",
       "      <th>36</th>\n",
       "      <td>0.19</td>\n",
       "      <td>Prc</td>\n",
       "      <td>child</td>\n",
       "    </tr>\n",
       "    <tr>\n",
       "      <th>37</th>\n",
       "      <td>0.14</td>\n",
       "      <td>Prc</td>\n",
       "      <td>child</td>\n",
       "    </tr>\n",
       "    <tr>\n",
       "      <th>38</th>\n",
       "      <td>0.15</td>\n",
       "      <td>Prc</td>\n",
       "      <td>child</td>\n",
       "    </tr>\n",
       "    <tr>\n",
       "      <th>39</th>\n",
       "      <td>0.55</td>\n",
       "      <td>Prc</td>\n",
       "      <td>adult</td>\n",
       "    </tr>\n",
       "    <tr>\n",
       "      <th>40</th>\n",
       "      <td>0.59</td>\n",
       "      <td>Prc</td>\n",
       "      <td>adult</td>\n",
       "    </tr>\n",
       "    <tr>\n",
       "      <th>41</th>\n",
       "      <td>0.50</td>\n",
       "      <td>Prc</td>\n",
       "      <td>adult</td>\n",
       "    </tr>\n",
       "    <tr>\n",
       "      <th>42</th>\n",
       "      <td>0.18</td>\n",
       "      <td>Prc</td>\n",
       "      <td>mix</td>\n",
       "    </tr>\n",
       "    <tr>\n",
       "      <th>43</th>\n",
       "      <td>0.23</td>\n",
       "      <td>Prc</td>\n",
       "      <td>mix</td>\n",
       "    </tr>\n",
       "    <tr>\n",
       "      <th>44</th>\n",
       "      <td>0.18</td>\n",
       "      <td>Prc</td>\n",
       "      <td>mix</td>\n",
       "    </tr>\n",
       "  </tbody>\n",
       "</table>\n",
       "</div>"
      ],
      "text/plain": [
       "    Percentage    Measure Mission\n",
       "0         0.72   Accuracy   child\n",
       "1         0.53   Accuracy   child\n",
       "2         0.50   Accuracy   child\n",
       "3         0.69   Accuracy   adult\n",
       "4         0.73   Accuracy   adult\n",
       "5         0.65   Accuracy   adult\n",
       "6         0.66   Accuracy     mix\n",
       "7         0.74   Accuracy     mix\n",
       "8         0.54   Accuracy     mix\n",
       "9         0.21  Precision   child\n",
       "10        0.14  Precision   child\n",
       "11        0.15  Precision   child\n",
       "12        0.55  Precision   adult\n",
       "13        0.61  Precision   adult\n",
       "14        0.49  Precision   adult\n",
       "15        0.18  Precision     mix\n",
       "16        0.26  Precision     mix\n",
       "17        0.16  Precision     mix\n",
       "18        0.40     Recall   child\n",
       "19        0.47     Recall   child\n",
       "20        0.59     Recall   child\n",
       "21        0.54     Recall   adult\n",
       "22        0.56     Recall   adult\n",
       "23        0.63     Recall   adult\n",
       "24        0.44     Recall     mix\n",
       "25        0.53     Recall     mix\n",
       "26        0.59     Recall     mix\n",
       "27        0.60        Auc   child\n",
       "28        0.51        Auc   child\n",
       "29        0.54        Auc   child\n",
       "30        0.71        Auc   adult\n",
       "31        0.74        Auc   adult\n",
       "32        0.68        Auc   adult\n",
       "33        0.58        Auc     mix\n",
       "34        0.64        Auc     mix\n",
       "35        0.55        Auc     mix\n",
       "36        0.19        Prc   child\n",
       "37        0.14        Prc   child\n",
       "38        0.15        Prc   child\n",
       "39        0.55        Prc   adult\n",
       "40        0.59        Prc   adult\n",
       "41        0.50        Prc   adult\n",
       "42        0.18        Prc     mix\n",
       "43        0.23        Prc     mix\n",
       "44        0.18        Prc     mix"
      ]
     },
     "execution_count": 7,
     "metadata": {},
     "output_type": "execute_result"
    }
   ],
   "source": [
    "df_Eff_backing"
   ]
  },
  {
   "cell_type": "code",
   "execution_count": 8,
   "id": "859202fb",
   "metadata": {},
   "outputs": [
    {
     "data": {
      "image/png": "[encoded data removed]",
      "text/plain": [
       "<Figure size 432x288 with 1 Axes>"
      ]
     },
     "metadata": {
      "needs_background": "light"
     },
     "output_type": "display_data"
    }
   ],
   "source": [
    "sns.boxplot(data=df_Eff_backing, x=\"Measure\", y=\"Percentage\", hue=\"Mission\")\n",
    "plt.savefig('./exp0925fig/EfficientNetV2B0_Backing.png', dpi=300)\n"
   ]
  },
  {
   "cell_type": "markdown",
   "id": "617a286e",
   "metadata": {},
   "source": [
    "MobileNetV2 "
   ]
  },
  {
   "cell_type": "code",
   "execution_count": 9,
   "id": "1858b0e5",
   "metadata": {},
   "outputs": [],
   "source": [
    "ListACC = [0.33, 0.65, 0.54, 0.72, 0.71, 0.65, 0.61, 0.68, 0.76]\n",
    "ListPre = [0.13, 0.17, 0.16, 0.57, 0.58, 0.49, 0.17, 0.22, 0.30]\n",
    "ListRecall= [0.70, 0.42, 0.61, 0.66, 0.57, 0.62, 0.51, 0.56, 0.61]\n",
    "ListAuc = [0.51, 0.56, 0.57, 0.72, 0.71, 0.65, 0.56, 0.69, 0.72]\n",
    "ListPrc = [0.15, 0.16, 0.15, 0.53, 0.54, 0.45, 0.16, 0.19, 0.28]\n",
    "ListMission = ['child','child','child','adult','adult','adult','mix','mix','mix']"
   ]
  },
  {
   "cell_type": "code",
   "execution_count": 10,
   "id": "8ade3a82",
   "metadata": {},
   "outputs": [],
   "source": [
    "SerValue = pd.Series(ListACC+ListPre+ListRecall+ListAuc+ListPrc)\n",
    "SerValueType = pd.Series(\n",
    "    ['Accuracy', 'Accuracy', 'Accuracy', 'Accuracy', 'Accuracy', 'Accuracy', 'Accuracy', 'Accuracy', 'Accuracy',\n",
    "     'Precision', 'Precision', 'Precision', 'Precision', 'Precision', 'Precision', 'Precision', 'Precision', 'Precision',\n",
    "     'Recall', 'Recall', 'Recall', 'Recall', 'Recall', 'Recall', 'Recall', 'Recall', 'Recall',\n",
    "     'Auc', 'Auc', 'Auc', 'Auc', 'Auc', 'Auc', 'Auc', 'Auc', 'Auc',\n",
    "     'Prc', 'Prc', 'Prc', 'Prc', 'Prc', 'Prc', 'Prc', 'Prc', 'Prc'])\n",
    "SerMission = pd.Series(ListMission+ListMission +\n",
    "                       ListMission+ListMission+ListMission)\n",
    "df_Mob_backing = pd.DataFrame({'Percentage':SerValue, 'Measure':SerValueType, 'Mission':SerMission})"
   ]
  },
  {
   "cell_type": "code",
   "execution_count": 11,
   "id": "a0d62e42",
   "metadata": {},
   "outputs": [
    {
     "data": {
      "image/png": "[encoded data removed]",
      "text/plain": [
       "<Figure size 432x288 with 1 Axes>"
      ]
     },
     "metadata": {
      "needs_background": "light"
     },
     "output_type": "display_data"
    }
   ],
   "source": [
    "sns.boxplot(data=df_Mob_backing, x=\"Measure\", y=\"Percentage\", hue=\"Mission\")\n",
    "plt.savefig('./exp0925fig/MobileNetV2 _Backing.png', dpi=300)\n"
   ]
  },
  {
   "cell_type": "markdown",
   "id": "e09ea1cd",
   "metadata": {},
   "source": [
    "## Stoping"
   ]
  },
  {
   "cell_type": "markdown",
   "id": "755378aa",
   "metadata": {},
   "source": [
    "### EfficientNetV2B0"
   ]
  },
  {
   "cell_type": "code",
   "execution_count": 12,
   "id": "e8023f82",
   "metadata": {},
   "outputs": [],
   "source": [
    "ListACC = [0.54,0.60,0.53,0.68,0.62,0.60,0.57,0.66,0.60]\n",
    "ListPre = [0.16,0.16,0.16,0.32,0.26,0.24,0.18,0.17,0.20]\n",
    "ListRecall=[0.46,0.37,0.48,0.39,0.36,0.36,0.49,0.30,0.53]\n",
    "ListAuc = [0.51,0.55,0.55,0.59,0.54,0.52,0.54,0.56,0.54]\n",
    "ListPrc = [0.16,0.20,0.18,0.28,0.24,0.23,0.17,0.17,0.18]\n",
    "ListMission =['child','child','child','adult','adult','adult','mix','mix','mix']"
   ]
  },
  {
   "cell_type": "code",
   "execution_count": 13,
   "id": "165ef120",
   "metadata": {},
   "outputs": [],
   "source": [
    "SerValue = pd.Series(ListACC+ListPre+ListRecall+ListAuc+ListPrc)\n",
    "SerValueType = pd.Series(\n",
    "    ['Accuracy', 'Accuracy', 'Accuracy', 'Accuracy', 'Accuracy', 'Accuracy', 'Accuracy', 'Accuracy', 'Accuracy',\n",
    "     'Precision', 'Precision', 'Precision', 'Precision', 'Precision', 'Precision', 'Precision', 'Precision', 'Precision',\n",
    "     'Recall', 'Recall', 'Recall', 'Recall', 'Recall', 'Recall', 'Recall', 'Recall', 'Recall',\n",
    "     'Auc', 'Auc', 'Auc', 'Auc', 'Auc', 'Auc', 'Auc', 'Auc', 'Auc',\n",
    "     'Prc', 'Prc', 'Prc', 'Prc', 'Prc', 'Prc', 'Prc', 'Prc', 'Prc'])\n",
    "SerMission = pd.Series(ListMission+ListMission +\n",
    "                       ListMission+ListMission+ListMission)\n",
    "df_Eff_stoping = pd.DataFrame({'Percentage':SerValue, 'Measure':SerValueType, 'Mission':SerMission})"
   ]
  },
  {
   "cell_type": "code",
   "execution_count": 14,
   "id": "a94bfdd2",
   "metadata": {},
   "outputs": [
    {
     "data": {
      "image/png": "[encoded data removed]",
      "text/plain": [
       "<Figure size 432x288 with 1 Axes>"
      ]
     },
     "metadata": {
      "needs_background": "light"
     },
     "output_type": "display_data"
    }
   ],
   "source": [
    "sns.boxplot(data=df_Eff_stoping, x=\"Measure\", y=\"Percentage\", hue=\"Mission\")\n",
    "plt.savefig('./exp0925fig/EfficientNetV2B0_Stoping.png', dpi=300)"
   ]
  },
  {
   "cell_type": "markdown",
   "id": "c66d320a",
   "metadata": {},
   "source": [
    "### MobileNetV2 "
   ]
  },
  {
   "cell_type": "code",
   "execution_count": 15,
   "id": "e3c8a66b",
   "metadata": {},
   "outputs": [],
   "source": [
    "ListACC = [0.38,0.58,0.62,0.69,0.58,0.59,0.65,0.67,0.60]\n",
    "ListPre = [0.16,0.18,0.18,0.36,0.23,0.25,0.22,0.22,0.17]\n",
    "ListRecall=[0.67,0.46,0.42,0.50,0.39,0.42,0.46,0.45,0.41]\n",
    "ListAuc = [0.52,0.56,0.54,0.64,0.52,0.54,0.56,0.54,0.52]\n",
    "ListPrc = [0.16,0.18,0.17,0.32,0.23,0.23,0.18,0.18,0.17]\n",
    "ListMissio=['child','child','child','adult','adult','adult','mix','mix','mix']"
   ]
  },
  {
   "cell_type": "code",
   "execution_count": 16,
   "id": "3eeec78f",
   "metadata": {},
   "outputs": [],
   "source": [
    "SerValue = pd.Series(ListACC+ListPre+ListRecall+ListAuc+ListPrc)\n",
    "SerValueType = pd.Series(\n",
    "    ['Accuracy', 'Accuracy', 'Accuracy', 'Accuracy', 'Accuracy', 'Accuracy', 'Accuracy', 'Accuracy', 'Accuracy',\n",
    "     'Precision', 'Precision', 'Precision', 'Precision', 'Precision', 'Precision', 'Precision', 'Precision', 'Precision',\n",
    "     'Recall', 'Recall', 'Recall', 'Recall', 'Recall', 'Recall', 'Recall', 'Recall', 'Recall',\n",
    "     'Auc', 'Auc', 'Auc', 'Auc', 'Auc', 'Auc', 'Auc', 'Auc', 'Auc',\n",
    "     'Prc', 'Prc', 'Prc', 'Prc', 'Prc', 'Prc', 'Prc', 'Prc', 'Prc'])\n",
    "SerMission = pd.Series(ListMission+ListMission +\n",
    "                       ListMission+ListMission+ListMission)\n",
    "df_Mob_stoping = pd.DataFrame({'Percentage':SerValue, 'Measure':SerValueType, 'Mission':SerMission})"
   ]
  },
  {
   "cell_type": "code",
   "execution_count": 18,
   "id": "18c6eb97",
   "metadata": {},
   "outputs": [
    {
     "data": {
      "image/png": "[encoded data removed]",
      "text/plain": [
       "<Figure size 432x288 with 1 Axes>"
      ]
     },
     "metadata": {
      "needs_background": "light"
     },
     "output_type": "display_data"
    }
   ],
   "source": [
    "sns.boxplot(data=df_Mob_stoping, x=\"Measure\", y=\"Percentage\", hue=\"Mission\")\n",
    "plt.savefig('./exp0925fig/MobileNetV2 _Stoping.png', dpi=300)\n"
   ]
  },
  {
   "cell_type": "code",
   "execution_count": 21,
   "id": "3ec9dee7",
   "metadata": {},
   "outputs": [
    {
     "data": {
      "text/plain": [
       "0.19884559884559885"
      ]
     },
     "execution_count": 21,
     "metadata": {},
     "output_type": "execute_result"
    }
   ],
   "source": [
    "689/(2776+689)"
   ]
  },
  {
   "cell_type": "code",
   "execution_count": 23,
   "id": "76a1673d",
   "metadata": {},
   "outputs": [
    {
     "data": {
      "text/plain": [
       "0.1328125"
      ]
     },
     "execution_count": 23,
     "metadata": {},
     "output_type": "execute_result"
    }
   ],
   "source": [
    "170/(1110+170)"
   ]
  },
  {
   "cell_type": "code",
   "execution_count": 24,
   "id": "1297fa06",
   "metadata": {},
   "outputs": [
    {
     "data": {
      "text/plain": [
       "0.3398992212551535"
      ]
     },
     "execution_count": 24,
     "metadata": {},
     "output_type": "execute_result"
    }
   ],
   "source": [
    "742/(742+1441)"
   ]
  },
  {
   "cell_type": "code",
   "execution_count": 26,
   "id": "060796f2",
   "metadata": {},
   "outputs": [
    {
     "data": {
      "text/plain": [
       "0.26335547213398786"
      ]
     },
     "execution_count": 26,
     "metadata": {},
     "output_type": "execute_result"
    }
   ],
   "source": [
    "912/(2551+912)"
   ]
  },
  {
   "cell_type": "code",
   "execution_count": null,
   "id": "fa32d09f",
   "metadata": {},
   "outputs": [],
   "source": []
  }
 ],
 "metadata": {
  "kernelspec": {
   "display_name": "Python 3.8.13 64-bit ('cgh_tf2')",
   "language": "python",
   "name": "python3"
  },
  "language_info": {
   "codemirror_mode": {
    "name": "ipython",
    "version": 3
   },
   "file_extension": ".py",
   "mimetype": "text/x-python",
   "name": "python",
   "nbconvert_exporter": "python",
   "pygments_lexer": "ipython3",
   "version": "3.8.13"
  },
  "vscode": {
   "interpreter": {
    "hash": "29e15e845342097c604971b23395c40e491c86f6c70a7e157ad928f415829c66"
   }
  }
 },
 "nbformat": 4,
 "nbformat_minor": 5
}
